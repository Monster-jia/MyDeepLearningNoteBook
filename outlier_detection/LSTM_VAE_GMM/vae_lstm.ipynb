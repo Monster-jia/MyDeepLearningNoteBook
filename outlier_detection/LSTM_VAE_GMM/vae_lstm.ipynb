{
 "cells": [
  {
   "cell_type": "code",
   "execution_count": 1,
   "metadata": {},
   "outputs": [
    {
     "data": {
      "text/plain": [
       "[PhysicalDevice(name='/physical_device:CPU:0', device_type='CPU'),\n",
       " PhysicalDevice(name='/physical_device:XLA_CPU:0', device_type='XLA_CPU'),\n",
       " PhysicalDevice(name='/physical_device:GPU:0', device_type='GPU'),\n",
       " PhysicalDevice(name='/physical_device:XLA_GPU:0', device_type='XLA_GPU')]"
      ]
     },
     "execution_count": 1,
     "metadata": {},
     "output_type": "execute_result"
    }
   ],
   "source": [
    "import tensorflow as tf\n",
    "import tensorflow.keras\n",
    "from tensorflow.keras import backend as K\n",
    "from tensorflow.keras.models import Sequential, Model\n",
    "from tensorflow.keras.layers import Input, LSTM, RepeatVector\n",
    "from tensorflow.keras.layers import Flatten, Dense, Dropout, Lambda\n",
    "from tensorflow.keras.optimizers import SGD, RMSprop, Adam\n",
    "from tensorflow.keras.losses import mse, binary_crossentropy\n",
    "import numpy as np\n",
    "import os\n",
    "import matplotlib.pyplot as plt\n",
    "%matplotlib inline\n",
    "%load_ext autoreload\n",
    "%autoreload 2\n",
    "\n",
    "tf.keras.backend.clear_session()  # For easy reset of notebook state.\n",
    "np.random.seed(42)\n",
    "tf.random.set_seed(42)\n",
    "os.environ[\"CUDA_VISIBLE_DEVICES\"]=\"3\"\n",
    "tf.config.list_physical_devices()"
   ]
  },
  {
   "cell_type": "code",
   "execution_count": 2,
   "metadata": {},
   "outputs": [],
   "source": [
    "def create_lstm_autoencoder(input_dim, timesteps, latent_dim):\n",
    "    \"\"\"\n",
    "    Creates an LSTM Autoencoder (VAE). Returns Autoencoder, Encoder, Generator. \n",
    "    (All code by fchollet - see reference.)\n",
    "\n",
    "    # Arguments\n",
    "        input_dim: int.\n",
    "        timesteps: int, input timestep dimension.\n",
    "        latent_dim: int, latent z-layer shape. \n",
    "\n",
    "    # References\n",
    "        - [Building Autoencoders in Keras](https://blog.keras.io/building-autoencoders-in-keras.html)\n",
    "    \"\"\"\n",
    "\n",
    "    inputs = Input(shape=(timesteps, input_dim,))\n",
    "    encoded = LSTM(latent_dim)(inputs)\n",
    "\n",
    "    decoded = RepeatVector(timesteps)(encoded)\n",
    "    decoded = LSTM(input_dim, return_sequences=True)(decoded)\n",
    "\n",
    "    sequence_autoencoder = Model(inputs, decoded)\n",
    "    encoder = Model(inputs, encoded)\n",
    "\n",
    "    autoencoder = Model(inputs, decoded)\n",
    "    autoencoder.compile(optimizer='adam', loss='mse')\n",
    "    return autoencoder"
   ]
  },
  {
   "cell_type": "code",
   "execution_count": 7,
   "metadata": {},
   "outputs": [],
   "source": [
    "def create_lstm_vae(input_dim, \n",
    "    timesteps, \n",
    "    batch_size, \n",
    "    intermediate_dim, \n",
    "    latent_dim,\n",
    "    epsilon_std=1.):\n",
    "\n",
    "    \"\"\"\n",
    "    Creates an LSTM Variational Autoencoder (VAE). Returns VAE, Encoder, Generator. \n",
    "\n",
    "    # Arguments\n",
    "        input_dim: int.\n",
    "        timesteps: int, input timestep dimension.\n",
    "        batch_size: int.\n",
    "        intermediate_dim: int, output shape of LSTM. \n",
    "        latent_dim: int, latent z-layer shape. \n",
    "        epsilon_std: float, z-layer sigma.\n",
    "\n",
    "\n",
    "    # References\n",
    "        - [Building Autoencoders in Keras](https://blog.keras.io/building-autoencoders-in-keras.html)\n",
    "        - [Generating sentences from a continuous space](https://arxiv.org/abs/1511.06349)\n",
    "    \"\"\"\n",
    "    x = Input(shape=(timesteps, input_dim,))\n",
    "\n",
    "    # LSTM encoding\n",
    "    h = LSTM(intermediate_dim)(x)\n",
    "\n",
    "    # VAE Z layer\n",
    "    z_mean = Dense(latent_dim)(h)\n",
    "    z_log_sigma = Dense(latent_dim)(h)\n",
    "    \n",
    "    def sampling(args):\n",
    "        z_mean, z_log_sigma = args\n",
    "        epsilon = K.random_normal(shape=(batch_size, latent_dim),\n",
    "                                  mean=0., stddev=epsilon_std)\n",
    "        return z_mean + z_log_sigma * epsilon\n",
    "\n",
    "    # note that \"output_shape\" isn't necessary with the TensorFlow backend\n",
    "    # so you could write `Lambda(sampling)([z_mean, z_log_sigma])`\n",
    "    z = Lambda(sampling, output_shape=(latent_dim,))([z_mean, z_log_sigma])\n",
    "    \n",
    "    # decoded LSTM layer\n",
    "    decoder_h = LSTM(intermediate_dim, return_sequences=True)\n",
    "    decoder_mean = LSTM(input_dim, return_sequences=True)\n",
    "\n",
    "    h_decoded = RepeatVector(timesteps)(z)\n",
    "    h_decoded = decoder_h(h_decoded)\n",
    "\n",
    "    # decoded layer\n",
    "    x_decoded_mean = decoder_mean(h_decoded)\n",
    "    \n",
    "    # end-to-end autoencoder\n",
    "    vae = Model(x, x_decoded_mean)\n",
    "\n",
    "    # encoder, from inputs to latent space\n",
    "    encoder = Model(x, z_mean)\n",
    "\n",
    "    # generator, from latent space to reconstructed inputs\n",
    "    decoder_input = Input(shape=(latent_dim,))\n",
    "\n",
    "    _h_decoded = RepeatVector(timesteps)(decoder_input)\n",
    "    _h_decoded = decoder_h(_h_decoded)\n",
    "\n",
    "    _x_decoded_mean = decoder_mean(_h_decoded)\n",
    "    generator = Model(decoder_input, _x_decoded_mean)\n",
    "    \n",
    "    xent_loss = mse(x, x_decoded_mean)\n",
    "    kl_loss = - 0.5 * K.mean(1 + z_log_sigma - K.square(z_mean) - K.exp(z_log_sigma))\n",
    "    loss = xent_loss + kl_loss\n",
    "    vae.add_loss(loss)\n",
    "    vae.compile(optimizer='rmsprop')\n",
    "    \n",
    "    return vae, encoder, generator"
   ]
  },
  {
   "cell_type": "code",
   "execution_count": 8,
   "metadata": {},
   "outputs": [],
   "source": [
    "def get_data():\n",
    "    # read data from file\n",
    "    data = np.fromfile('sample_data.dat').reshape(419,13)\n",
    "    timesteps = 3\n",
    "    dataX = []\n",
    "    for i in range(len(data) - timesteps - 1):\n",
    "        x = data[i:(i+timesteps), :]\n",
    "        dataX.append(x)\n",
    "    return np.array(dataX)"
   ]
  },
  {
   "cell_type": "code",
   "execution_count": 9,
   "metadata": {},
   "outputs": [],
   "source": [
    "x = get_data() #415*3*13\n",
    "input_dim = x.shape[-1] # 13\n",
    "timesteps = x.shape[1] # 3"
   ]
  },
  {
   "cell_type": "code",
   "execution_count": 13,
   "metadata": {},
   "outputs": [
    {
     "name": "stdout",
     "output_type": "stream",
     "text": [
      "Epoch 1/20\n",
      "13/13 [==============================] - 0s 10ms/step - loss: 0.1969\n",
      "Epoch 2/20\n",
      "13/13 [==============================] - 0s 9ms/step - loss: 0.1195\n",
      "Epoch 3/20\n",
      "13/13 [==============================] - 0s 9ms/step - loss: 0.0877\n",
      "Epoch 4/20\n",
      "13/13 [==============================] - 0s 9ms/step - loss: 0.0708\n",
      "Epoch 5/20\n",
      "13/13 [==============================] - 0s 9ms/step - loss: 0.0584\n",
      "Epoch 6/20\n",
      "13/13 [==============================] - 0s 9ms/step - loss: 0.0483\n",
      "Epoch 7/20\n",
      "13/13 [==============================] - 0s 10ms/step - loss: 0.0414\n",
      "Epoch 8/20\n",
      "13/13 [==============================] - 0s 9ms/step - loss: 0.0358\n",
      "Epoch 9/20\n",
      "13/13 [==============================] - 0s 9ms/step - loss: 0.0323\n",
      "Epoch 10/20\n",
      "13/13 [==============================] - 0s 9ms/step - loss: 0.0288\n",
      "Epoch 11/20\n",
      "13/13 [==============================] - 0s 9ms/step - loss: 0.0258\n",
      "Epoch 12/20\n",
      "13/13 [==============================] - 0s 9ms/step - loss: 0.0240\n",
      "Epoch 13/20\n",
      "13/13 [==============================] - 0s 9ms/step - loss: 0.0223\n",
      "Epoch 14/20\n",
      "13/13 [==============================] - 0s 9ms/step - loss: 0.0208\n",
      "Epoch 15/20\n",
      "13/13 [==============================] - 0s 9ms/step - loss: 0.0193\n",
      "Epoch 16/20\n",
      "13/13 [==============================] - 0s 9ms/step - loss: 0.0183\n",
      "Epoch 17/20\n",
      "13/13 [==============================] - 0s 9ms/step - loss: 0.0173\n",
      "Epoch 18/20\n",
      "13/13 [==============================] - 0s 9ms/step - loss: 0.0161\n",
      "Epoch 19/20\n",
      "13/13 [==============================] - 0s 9ms/step - loss: 0.0154\n",
      "Epoch 20/20\n",
      "13/13 [==============================] - 0s 9ms/step - loss: 0.0154\n",
      "[plotting...]\n",
      "x: (415, 3, 13), preds: (415, 3, 13)\n"
     ]
    },
    {
     "data": {
      "image/png": "[encoded data removed]",
      "text/plain": [
       "<Figure size 432x288 with 1 Axes>"
      ]
     },
     "metadata": {
      "needs_background": "light"
     },
     "output_type": "display_data"
    }
   ],
   "source": [
    "batch_size = 1\n",
    "vae, enc, gen = create_lstm_vae(input_dim, \n",
    "        timesteps=timesteps, \n",
    "        batch_size=batch_size, \n",
    "        intermediate_dim=32,\n",
    "        latent_dim=100,\n",
    "        epsilon_std=1.)\n",
    "\n",
    "vae.fit(x, x, epochs=20)\n",
    "\n",
    "preds = vae.predict(x, batch_size=batch_size)\n",
    "\n",
    "# pick a column to plot.\n",
    "print(\"[plotting...]\")\n",
    "print(\"x: %s, preds: %s\" % (x.shape, preds.shape))\n",
    "plt.plot(x[:,0,3], label='data')\n",
    "plt.plot(preds[:,0,3], label='predict')\n",
    "plt.legend()\n",
    "plt.show()"
   ]
  },
  {
   "cell_type": "code",
   "execution_count": null,
   "metadata": {},
   "outputs": [],
   "source": []
  }
 ],
 "metadata": {
  "kernelspec": {
   "display_name": "Python 3",
   "language": "python",
   "name": "python3"
  },
  "language_info": {
   "codemirror_mode": {
    "name": "ipython",
    "version": 3
   },
   "file_extension": ".py",
   "mimetype": "text/x-python",
   "name": "python",
   "nbconvert_exporter": "python",
   "pygments_lexer": "ipython3",
   "version": "3.8.2"
  }
 },
 "nbformat": 4,
 "nbformat_minor": 4
}
