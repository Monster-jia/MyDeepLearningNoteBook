{
 "cells": [
  {
   "cell_type": "code",
   "execution_count": 10,
   "metadata": {},
   "outputs": [
    {
     "name": "stderr",
     "output_type": "stream",
     "text": [
      "/home/jst/.conda/envs/jst/lib/python3.5/site-packages/IPython/core/interactiveshell.py:3049: DtypeWarning: Columns (3) have mixed types. Specify dtype option on import or set low_memory=False.\n",
      "  interactivity=interactivity, compiler=compiler, result=result)\n"
     ]
    },
    {
     "name": "stdout",
     "output_type": "stream",
     "text": [
      "   0     1       2    3     4     5     6     7     8     9     ...   1549  \\\n",
      "0   125   125     1.0    1     0     0     0     0     0     0  ...      0   \n",
      "1    57   468  8.2105    1     0     0     0     0     0     0  ...      0   \n",
      "2    33   230  6.9696    1     0     0     0     0     0     0  ...      0   \n",
      "3    60   468     7.8    1     0     0     0     0     0     0  ...      0   \n",
      "4    60   468     7.8    1     0     0     0     0     0     0  ...      0   \n",
      "\n",
      "   1550  1551  1552  1553  1554  1555  1556  1557  1558  \n",
      "0     0     0     0     0     0     0     0     0   ad.  \n",
      "1     0     0     0     0     0     0     0     0   ad.  \n",
      "2     0     0     0     0     0     0     0     0   ad.  \n",
      "3     0     0     0     0     0     0     0     0   ad.  \n",
      "4     0     0     0     0     0     0     0     0   ad.  \n",
      "\n",
      "[5 rows x 1559 columns]\n",
      "Fitting 3 folds for each of 27 candidates, totalling 81 fits\n"
     ]
    },
    {
     "name": "stderr",
     "output_type": "stream",
     "text": [
      "/home/jst/.conda/envs/jst/lib/python3.5/site-packages/pandas/core/frame.py:3798: SettingWithCopyWarning: \n",
      "A value is trying to be set on a copy of a slice from a DataFrame\n",
      "\n",
      "See the caveats in the documentation: http://pandas.pydata.org/pandas-docs/stable/indexing.html#indexing-view-versus-copy\n",
      "  method=method)\n",
      "/home/jst/.conda/envs/jst/lib/python3.5/site-packages/sklearn/model_selection/_split.py:1943: FutureWarning: You should specify a value for 'cv' instead of relying on the default value. The default value will change from 3 to 5 in version 0.22.\n",
      "  warnings.warn(CV_WARNING, FutureWarning)\n",
      "[Parallel(n_jobs=-1)]: Using backend LokyBackend with 8 concurrent workers.\n",
      "[Parallel(n_jobs=-1)]: Done  34 tasks      | elapsed:    5.7s\n",
      "[Parallel(n_jobs=-1)]: Done  81 out of  81 | elapsed:   11.0s finished\n"
     ]
    },
    {
     "name": "stdout",
     "output_type": "stream",
     "text": [
      "Best score: 0.877\n",
      "Best parameters set:\n",
      "\t clf__max_depth: 150\n",
      "\t clf__min_samples_leaf: 1\n",
      "\t clf__min_samples_split: 3\n",
      "              precision    recall  f1-score   support\n",
      "\n",
      "           0       0.98      0.98      0.98       704\n",
      "           1       0.86      0.85      0.86       116\n",
      "\n",
      "   micro avg       0.96      0.96      0.96       820\n",
      "   macro avg       0.92      0.92      0.92       820\n",
      "weighted avg       0.96      0.96      0.96       820\n",
      "\n"
     ]
    }
   ],
   "source": [
    "#Decision Tree\n",
    "import pandas as pd\n",
    "from sklearn.tree import DecisionTreeClassifier\n",
    "from sklearn.model_selection import train_test_split\n",
    "from sklearn.metrics import classification_report\n",
    "from sklearn.pipeline import Pipeline\n",
    "from sklearn.model_selection import GridSearchCV\n",
    "\n",
    "if __name__ == '__main__':\n",
    "    df = pd.read_csv('ad.data', header=None)\n",
    "    print(df.head()) # e continous feature, 1555 binary features\n",
    "    explanatory_variable_columns = set(df.columns.values)\n",
    "    response_variable_column = df[len(df.columns.values)-1]\n",
    "    \n",
    "    #The last column describes the targets\n",
    "    explanatory_variable_columns.remove(len(df.columns.values)-1)\n",
    "    \n",
    "    y = [1 if e == 'ad.' else 0 for e in response_variable_column]\n",
    "    X = df[list(explanatory_variable_columns)]\n",
    "    \n",
    "    X.replace(to_replace=' *\\?', value=-1, regex=True, inplace=True)\n",
    "    \n",
    "    X_train, X_test, y_train, y_test = train_test_split(X, y)\n",
    "    pipeline = Pipeline([('clf', DecisionTreeClassifier(criterion='entropy'))])\n",
    "    parameters = {\n",
    "        'clf__max_depth':(150,155,160),\n",
    "        'clf__min_samples_split':(2,3,4),\n",
    "        'clf__min_samples_leaf':(1,2,3)\n",
    "    }\n",
    "    \n",
    "    grid_search = GridSearchCV(pipeline, parameters, n_jobs=-1, verbose=1, scoring='f1')\n",
    "    grid_search.fit(X_train, y_train)\n",
    "    print('Best score: %0.3f'%grid_search.best_score_)\n",
    "    print('Best parameters set:')\n",
    "    \n",
    "    best_parameters = grid_search.best_estimator_.get_params()\n",
    "    for param_name in sorted(parameters.keys()):\n",
    "        print('\\t %s: %r'%(param_name, best_parameters[param_name]))\n",
    "    predictions = grid_search.predict(X_test)\n",
    "    print(classification_report(y_test, predictions))"
   ]
  },
  {
   "cell_type": "code",
   "execution_count": 11,
   "metadata": {},
   "outputs": [
    {
     "name": "stderr",
     "output_type": "stream",
     "text": [
      "/home/jst/.conda/envs/jst/lib/python3.5/site-packages/IPython/core/interactiveshell.py:3049: DtypeWarning: Columns (3) have mixed types. Specify dtype option on import or set low_memory=False.\n",
      "  interactivity=interactivity, compiler=compiler, result=result)\n"
     ]
    },
    {
     "name": "stdout",
     "output_type": "stream",
     "text": [
      "   0     1       2    3     4     5     6     7     8     9     ...   1549  \\\n",
      "0   125   125     1.0    1     0     0     0     0     0     0  ...      0   \n",
      "1    57   468  8.2105    1     0     0     0     0     0     0  ...      0   \n",
      "2    33   230  6.9696    1     0     0     0     0     0     0  ...      0   \n",
      "3    60   468     7.8    1     0     0     0     0     0     0  ...      0   \n",
      "4    60   468     7.8    1     0     0     0     0     0     0  ...      0   \n",
      "\n",
      "   1550  1551  1552  1553  1554  1555  1556  1557  1558  \n",
      "0     0     0     0     0     0     0     0     0   ad.  \n",
      "1     0     0     0     0     0     0     0     0   ad.  \n",
      "2     0     0     0     0     0     0     0     0   ad.  \n",
      "3     0     0     0     0     0     0     0     0   ad.  \n",
      "4     0     0     0     0     0     0     0     0   ad.  \n",
      "\n",
      "[5 rows x 1559 columns]\n"
     ]
    },
    {
     "name": "stderr",
     "output_type": "stream",
     "text": [
      "/home/jst/.conda/envs/jst/lib/python3.5/site-packages/pandas/core/frame.py:3798: SettingWithCopyWarning: \n",
      "A value is trying to be set on a copy of a slice from a DataFrame\n",
      "\n",
      "See the caveats in the documentation: http://pandas.pydata.org/pandas-docs/stable/indexing.html#indexing-view-versus-copy\n",
      "  method=method)\n",
      "/home/jst/.conda/envs/jst/lib/python3.5/site-packages/sklearn/model_selection/_split.py:1943: FutureWarning: You should specify a value for 'cv' instead of relying on the default value. The default value will change from 3 to 5 in version 0.22.\n",
      "  warnings.warn(CV_WARNING, FutureWarning)\n",
      "[Parallel(n_jobs=-1)]: Using backend LokyBackend with 8 concurrent workers.\n"
     ]
    },
    {
     "name": "stdout",
     "output_type": "stream",
     "text": [
      "Fitting 3 folds for each of 108 candidates, totalling 324 fits\n"
     ]
    },
    {
     "name": "stderr",
     "output_type": "stream",
     "text": [
      "[Parallel(n_jobs=-1)]: Done  34 tasks      | elapsed:    4.6s\n",
      "[Parallel(n_jobs=-1)]: Done 184 tasks      | elapsed:   23.2s\n",
      "[Parallel(n_jobs=-1)]: Done 324 out of 324 | elapsed:   42.4s finished\n"
     ]
    },
    {
     "name": "stdout",
     "output_type": "stream",
     "text": [
      "Best score: 0.928\n",
      "Best parameters set:\n",
      "\t clf__max_depth: 150\n",
      "\t clf__min_samples_leaf: 1\n",
      "\t clf__min_samples_split: 4\n",
      "\t clf__n_estimators: 50\n",
      "              precision    recall  f1-score   support\n",
      "\n",
      "           0       0.98      1.00      0.99       711\n",
      "           1       0.99      0.86      0.92       109\n",
      "\n",
      "   micro avg       0.98      0.98      0.98       820\n",
      "   macro avg       0.98      0.93      0.96       820\n",
      "weighted avg       0.98      0.98      0.98       820\n",
      "\n"
     ]
    }
   ],
   "source": [
    "#Random forest\n",
    "import pandas as pd\n",
    "from sklearn.ensemble import RandomForestClassifier \n",
    "from sklearn.model_selection import train_test_split\n",
    "from sklearn.metrics import classification_report\n",
    "from sklearn.pipeline import Pipeline\n",
    "from sklearn.model_selection import GridSearchCV\n",
    "\n",
    "if __name__ == '__main__':\n",
    "    df = pd.read_csv('ad.data', header=None)\n",
    "    print(df.head()) # e continous feature, 1555 binary features\n",
    "    explanatory_variable_columns = set(df.columns.values)\n",
    "    response_variable_column = df[len(df.columns.values)-1]\n",
    "    \n",
    "    #The last column describes the targets\n",
    "    explanatory_variable_columns.remove(len(df.columns.values)-1)\n",
    "    \n",
    "    y = [1 if e == 'ad.' else 0 for e in response_variable_column]\n",
    "    X = df[list(explanatory_variable_columns)]\n",
    "    \n",
    "    X.replace(to_replace=' *\\?', value=-1, regex=True, inplace=True)\n",
    "    \n",
    "    X_train, X_test, y_train, y_test = train_test_split(X, y)\n",
    "    pipeline = Pipeline([('clf', RandomForestClassifier(criterion='entropy'))])\n",
    "    parameters = {\n",
    "        'clf__n_estimators':(5,10,20,50),\n",
    "        'clf__max_depth':(50,150,250),\n",
    "        'clf__min_samples_split':(2,3,4),\n",
    "        'clf__min_samples_leaf':(1,2,3)\n",
    "    }\n",
    "    \n",
    "    grid_search = GridSearchCV(pipeline, parameters, n_jobs=-1, verbose=1, scoring='f1')\n",
    "    grid_search.fit(X_train, y_train)\n",
    "    print('Best score: %0.3f'%grid_search.best_score_)\n",
    "    print('Best parameters set:')\n",
    "    \n",
    "    best_parameters = grid_search.best_estimator_.get_params()\n",
    "    for param_name in sorted(parameters.keys()):\n",
    "        print('\\t %s: %r'%(param_name, best_parameters[param_name]))\n",
    "    predictions = grid_search.predict(X_test)\n",
    "    print(classification_report(y_test, predictions))"
   ]
  },
  {
   "cell_type": "code",
   "execution_count": null,
   "metadata": {},
   "outputs": [],
   "source": []
  }
 ],
 "metadata": {
  "kernelspec": {
   "display_name": "Python 3",
   "language": "python",
   "name": "python3"
  },
  "language_info": {
   "codemirror_mode": {
    "name": "ipython",
    "version": 3
   },
   "file_extension": ".py",
   "mimetype": "text/x-python",
   "name": "python",
   "nbconvert_exporter": "python",
   "pygments_lexer": "ipython3",
   "version": "3.5.6"
  }
 },
 "nbformat": 4,
 "nbformat_minor": 2
}
