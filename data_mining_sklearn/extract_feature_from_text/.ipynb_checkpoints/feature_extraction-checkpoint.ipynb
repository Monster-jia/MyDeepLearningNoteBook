{
 "cells": [
  {
   "cell_type": "code",
   "execution_count": 2,
   "metadata": {},
   "outputs": [
    {
     "name": "stdout",
     "output_type": "stream",
     "text": [
      "[[0. 1. 0.]\n",
      " [0. 0. 1.]\n",
      " [1. 0. 0.]]\n"
     ]
    }
   ],
   "source": [
    "#extract features from categorical variables\n",
    "from sklearn.feature_extraction import DictVectorizer\n",
    "onehot_encoder = DictVectorizer()\n",
    "instance = [{'city':'new york'},{'city':'san francisco'},{'city':'chapel hill'}]\n",
    "print(onehot_encoder.fit_transform(instance).toarray())"
   ]
  },
  {
   "cell_type": "code",
   "execution_count": 9,
   "metadata": {},
   "outputs": [
    {
     "name": "stdout",
     "output_type": "stream",
     "text": [
      "[[0 1 1 0 1 0 1 0 0 1]\n",
      " [0 1 1 1 0 1 0 0 1 0]\n",
      " [1 0 0 0 0 0 0 1 0 0]]\n",
      "{'duke': 2, 'sandwich': 7, 'lost': 5, 'the': 8, 'game': 3, 'basketball': 1, 'played': 6, 'in': 4, 'ate': 0, 'unc': 9}\n",
      "Distance between 1st and 2nd documents: [[2.44948974]]\n",
      "Distance between 2nd and 3rd documents: [[2.64575131]]\n"
     ]
    }
   ],
   "source": [
    "#bag of words representation\n",
    "from sklearn.feature_extraction.text import CountVectorizer\n",
    "from sklearn.metrics.pairwise import euclidean_distances\n",
    "\n",
    "corpus = ['UNC played Duke in basketball','Duke lost the basketball game','I ate a sandwich']\n",
    "vectorizer = CountVectorizer()\n",
    "counts = vectorizer.fit_transform(corpus).todense()\n",
    "print(counts)\n",
    "print(vectorizer.vocabulary_)\n",
    "\n",
    "print('Distance between 1st and 2nd documents:',euclidean_distances(counts[0],counts[1]))\n",
    "print('Distance between 2nd and 3rd documents:',euclidean_distances(counts[1],counts[2]))"
   ]
  },
  {
   "cell_type": "code",
   "execution_count": 10,
   "metadata": {},
   "outputs": [
    {
     "name": "stdout",
     "output_type": "stream",
     "text": [
      "[[0 1 1 0 0 1 0 1]\n",
      " [0 1 1 1 1 0 0 0]\n",
      " [1 0 0 0 0 0 1 0]]\n",
      "{'duke': 2, 'sandwich': 6, 'lost': 4, 'game': 3, 'basketball': 1, 'played': 5, 'ate': 0, 'unc': 7}\n"
     ]
    }
   ],
   "source": [
    "#stop word filtering\n",
    "from sklearn.feature_extraction.text import CountVectorizer\n",
    "corpus = ['UNC played Duke in basketball','Duke lost the basketball game','I ate a sandwich']\n",
    "vectorizer = CountVectorizer(stop_words='english')\n",
    "counts = vectorizer.fit_transform(corpus).todense()\n",
    "print(counts)\n",
    "print(vectorizer.vocabulary_)"
   ]
  },
  {
   "cell_type": "code",
   "execution_count": 8,
   "metadata": {},
   "outputs": [
    {
     "name": "stdout",
     "output_type": "stream",
     "text": [
      "gather\n",
      "gathering\n"
     ]
    }
   ],
   "source": [
    "#lemmatization and stemming\n",
    "from nltk.stem.wordnet import WordNetLemmatizer\n",
    "lemmatizer = WordNetLemmatizer()\n",
    "print(lemmatizer.lemmatize('gathering', 'v'))\n",
    "print(lemmatizer.lemmatize('gathering','n'))"
   ]
  },
  {
   "cell_type": "code",
   "execution_count": 6,
   "metadata": {},
   "outputs": [
    {
     "name": "stdout",
     "output_type": "stream",
     "text": [
      "gather\n"
     ]
    }
   ],
   "source": [
    "from nltk.stem import PorterStemmer\n",
    "stemmer = PorterStemmer()\n",
    "print(stemmer.stem('gathering'))"
   ]
  },
  {
   "cell_type": "code",
   "execution_count": 5,
   "metadata": {},
   "outputs": [
    {
     "name": "stdout",
     "output_type": "stream",
     "text": [
      "[[2 1 3 1 1]]\n",
      "{'dog': 1, 'sandwich': 2, 'transfigured': 3, 'ate': 0, 'wizard': 4}\n",
      "[[0.5  0.25 0.75 0.25 0.25]]\n",
      "{'dog': 1, 'sandwich': 2, 'transfigured': 3, 'ate': 0, 'wizard': 4}\n"
     ]
    }
   ],
   "source": [
    "#TF-IDF\n",
    "from sklearn.feature_extraction.text import CountVectorizer\n",
    "corpus = ['The dog ate a sandwich, the wizard transfigured a sandwich, and I ate a sandwich']\n",
    "vectorizer = CountVectorizer(stop_words='english')\n",
    "print(vectorizer.fit_transform(corpus).todense())\n",
    "print(vectorizer.vocabulary_)\n",
    "\n",
    "from sklearn.feature_extraction.text import TfidfVectorizer\n",
    "vectorizer = TfidfVectorizer(stop_words='english')\n",
    "print(vectorizer.fit_transform(corpus).todense())\n",
    "print(vectorizer.vocabulary_)"
   ]
  },
  {
   "cell_type": "code",
   "execution_count": null,
   "metadata": {},
   "outputs": [],
   "source": []
  }
 ],
 "metadata": {
  "kernelspec": {
   "display_name": "Python 3",
   "language": "python",
   "name": "python3"
  },
  "language_info": {
   "codemirror_mode": {
    "name": "ipython",
    "version": 3
   },
   "file_extension": ".py",
   "mimetype": "text/x-python",
   "name": "python",
   "nbconvert_exporter": "python",
   "pygments_lexer": "ipython3",
   "version": "3.5.6"
  }
 },
 "nbformat": 4,
 "nbformat_minor": 2
}
