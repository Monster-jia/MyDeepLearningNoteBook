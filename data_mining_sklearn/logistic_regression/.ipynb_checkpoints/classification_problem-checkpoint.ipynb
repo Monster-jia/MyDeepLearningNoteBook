{
 "cells": [
  {
   "cell_type": "code",
   "execution_count": 3,
   "metadata": {},
   "outputs": [
    {
     "name": "stdout",
     "output_type": "stream",
     "text": [
      "      0                                                  1\n",
      "0   ham  Go until jurong point, crazy.. Available only ...\n",
      "1   ham                      Ok lar... Joking wif u oni...\n",
      "2  spam  Free entry in 2 a wkly comp to win FA Cup fina...\n",
      "3   ham  U dun say so early hor... U c already then say...\n",
      "4   ham  Nah I don't think he goes to usf, he lives aro...\n",
      "Number of spam mesages: 747\n",
      "Number of ham messages: 4825\n"
     ]
    }
   ],
   "source": [
    "import pandas as pd\n",
    "df = pd.read_csv('SMSSpamCollection', delimiter='\\t', header=None) #delimiter:candidate seprator\n",
    "print(df.head())\n",
    "print('Number of spam mesages:', df[df[0] == 'spam'][0].count())\n",
    "print('Number of ham messages:', df[df[0] == 'ham'][0].count())"
   ]
  },
  {
   "cell_type": "code",
   "execution_count": 44,
   "metadata": {},
   "outputs": [
    {
     "name": "stdout",
     "output_type": "stream",
     "text": [
      "Prediction: spam, Messages: URGENT! Your Mobile number has been awarded with a £2000 prize GUARANTEED. Call 09058094455 from land line. Claim 3030. Valid 12hrs only \n",
      "Prediction: ham, Messages: Stop calling everyone saying I might have cancer. My throat hurts to talk. I can't be answering everyones calls. If I get one more call I'm not babysitting on Monday \n",
      "Prediction: ham, Messages: Ü collecting ur laptop then going to configure da settings izzit? \n",
      "Prediction: ham, Messages: how tall are you princess? \n",
      "Prediction: ham, Messages: Somewhr someone is surely made 4 u. And God has decided a perfect time to make u meet dat person. . . . till den, . . . . . Enjoy ur crushes..!!!;-) \n",
      "\n",
      " confusion_matrix:\n",
      " [[1209    2]\n",
      " [  37  145]]\n"
     ]
    },
    {
     "data": {
      "image/png": "[encoded data removed]",
      "text/plain": [
       "<Figure size 288x288 with 2 Axes>"
      ]
     },
     "metadata": {
      "needs_background": "light"
     },
     "output_type": "display_data"
    },
    {
     "name": "stdout",
     "output_type": "stream",
     "text": [
      "Accuarcy: 0.9720028715003589\n",
      "\n",
      " cross-val:\n",
      " 0.9552519840701372 [0.94138756 0.96889952 0.96172249 0.95095694 0.95329341]\n",
      "\n",
      " precisions:\n",
      " 0.9927115914871788 [1.         0.98876404 0.98795181 1.         0.98684211]\n"
     ]
    },
    {
     "name": "stderr",
     "output_type": "stream",
     "text": [
      "/home/jst/.conda/envs/jst/lib/python3.5/site-packages/sklearn/linear_model/logistic.py:432: FutureWarning: Default solver will be changed to 'lbfgs' in 0.22. Specify a solver to silence this warning.\n",
      "  FutureWarning)\n",
      "/home/jst/.conda/envs/jst/lib/python3.5/site-packages/sklearn/linear_model/logistic.py:432: FutureWarning: Default solver will be changed to 'lbfgs' in 0.22. Specify a solver to silence this warning.\n",
      "  FutureWarning)\n",
      "/home/jst/.conda/envs/jst/lib/python3.5/site-packages/sklearn/linear_model/logistic.py:432: FutureWarning: Default solver will be changed to 'lbfgs' in 0.22. Specify a solver to silence this warning.\n",
      "  FutureWarning)\n"
     ]
    },
    {
     "name": "stdout",
     "output_type": "stream",
     "text": [
      "\n",
      " recalls:\n",
      " 0.6743362831858407 [0.56637168 0.77876106 0.72566372 0.63716814 0.66371681]\n",
      "\n",
      " F1 \n",
      " 0.8006429672855008 [0.72316384 0.87128713 0.83673469 0.77837838 0.79365079]\n"
     ]
    },
    {
     "name": "stderr",
     "output_type": "stream",
     "text": [
      "/home/jst/.conda/envs/jst/lib/python3.5/site-packages/sklearn/linear_model/logistic.py:432: FutureWarning: Default solver will be changed to 'lbfgs' in 0.22. Specify a solver to silence this warning.\n",
      "  FutureWarning)\n"
     ]
    }
   ],
   "source": [
    "#binary spam classficiation\n",
    "import numpy as np\n",
    "import pandas as pd\n",
    "from sklearn.feature_extraction.text import TfidfVectorizer\n",
    "from sklearn.linear_model.logistic import LogisticRegression\n",
    "from sklearn.model_selection import train_test_split, cross_val_score\n",
    "\n",
    "\n",
    "df = pd.read_csv('SMSSpamCollection', delimiter='\\t', header=None)\n",
    "'''\n",
    "from sklearn.preprocessing import label_binarize\n",
    "encoded_column_vector = label_binarize(df[0], classes=['ham','spam']) # ham will be 0 and spam will be 1\n",
    "encoded_labels = np.ravel(encoded_column_vector) # Reshape array\n",
    "X_train_raw, X_test_raw, y_train, y_test = train_test_split(df[1], encoded_labels)\n",
    "'''\n",
    "X_train_raw, X_test_raw, y_train, y_test = train_test_split(df[1], df[0])\n",
    "vectorizer = TfidfVectorizer()\n",
    "X_train = vectorizer.fit_transform(X_train_raw)\n",
    "X_test = vectorizer.transform(X_test_raw) # to use the same mean and std as with the training data\n",
    "\n",
    "classifier = LogisticRegression()\n",
    "classifier.fit(X_train, y_train)\n",
    "predictions = classifier.predict(X_test)\n",
    "\n",
    "for i, prediction in enumerate(predictions[:5]):\n",
    "    print('Prediction: %s, Messages: %s '%(prediction,list(X_test_raw)[i]))\n",
    "    \n",
    "    \n",
    "#binary classficiation performance metrics\n",
    "from sklearn.metrics import confusion_matrix\n",
    "import matplotlib.pyplot as plt\n",
    "%matplotlib inline\n",
    "\n",
    "confusion_matrix = confusion_matrix(y_test,predictions)\n",
    "print('\\n confusion_matrix:\\n',confusion_matrix)\n",
    "plt.matshow(confusion_matrix)\n",
    "plt.title('confusion_matrix')\n",
    "plt.colorbar()\n",
    "plt.ylabel('True label')\n",
    "plt.xlabel('Predicted label')\n",
    "plt.show()\n",
    "\n",
    "#accuracy\n",
    "from sklearn.metrics import accuracy_score\n",
    "print('Accuarcy:', accuracy_score(y_test, predictions))\n",
    "\n",
    "scores = cross_val_score(classifier, X_train, y_train, cv=5)\n",
    "print('\\n cross-val:\\n',np.mean(scores),scores)\n",
    "\n",
    "#precisions, recall\n",
    "from sklearn.metrics import precision_score, recall_score, make_scorer, f1_score\n",
    "precision_scorer = make_scorer(precision_score, pos_label='spam')\n",
    "precisions = cross_val_score(classifier, X_train, y_train, cv=5, scoring=precision_scorer)\n",
    "print('\\n precisions:\\n',np.mean(precisions), precisions)\n",
    "\n",
    "recall_scorer = make_scorer(recall_score, pos_label='spam')\n",
    "recalls = cross_val_score(classifier, X_train, y_train, cv=5, scoring=recall_scorer)\n",
    "print('\\n recalls:\\n',np.mean(recalls), recalls)\n",
    "\n",
    "#F1\n",
    "f1_scorer = make_scorer(f1_score, pos_label='spam')\n",
    "f1s = cross_val_score(classifier, X_train, y_train, cv=5, scoring=f1_scorer)\n",
    "print('\\n F1 \\n',np.mean(f1s), f1s)"
   ]
  },
  {
   "cell_type": "code",
   "execution_count": 59,
   "metadata": {},
   "outputs": [
    {
     "data": {
      "image/png": "[encoded data removed]",
      "text/plain": [
       "<Figure size 432x288 with 1 Axes>"
      ]
     },
     "metadata": {
      "needs_background": "light"
     },
     "output_type": "display_data"
    }
   ],
   "source": [
    "#ROC Curve\n",
    "import numpy as np\n",
    "import pandas as pd\n",
    "import matplotlib.pyplot as plt\n",
    "%matplotlib inline\n",
    "from sklearn.feature_extraction.text import TfidfVectorizer\n",
    "from sklearn.model_selection import train_test_split, cross_val_score\n",
    "from sklearn.metrics import roc_curve, auc\n",
    "\n",
    "df = pd.read_csv('SMSSpamCollection', delimiter='\\t', header=None)\n",
    "X_train_raw, X_test_raw, y_train, y_test = train_test_split(df[1], df[0])\n",
    "vectorizer = TfidfVectorizer()\n",
    "X_train = vectorizer.fit_transform(X_train_raw)\n",
    "X_test = vectorizer.transform(X_test_raw)\n",
    "classifier = LogisticRegression()\n",
    "classifier.fit(X_train, y_train)\n",
    "\n",
    "predictions = classifier.predict_proba(X_test)\n",
    "false_positive_rate, recall, thresholds = roc_curve(y_test, predictions[:,1], pos_label='spam')\n",
    "roc_auc = auc(false_positive_rate, recall)\n",
    "\n",
    "plt.title('Receiver Operating Characteristic')\n",
    "plt.plot(false_positive_rate, recall, 'b', label='AUC=%0.2F'%roc_auc)\n",
    "plt.legend(loc='lower right')\n",
    "plt.plot([0,1],[0,1],'r--')\n",
    "plt.xlim([0.0,1.0])\n",
    "plt.ylim([0.0,1.0])\n",
    "plt.ylabel('Recall')#TP/(TP+FN)\n",
    "plt.xlabel('Fall-out')#FP/(FP+TN)\n",
    "plt.show()"
   ]
  },
  {
   "cell_type": "code",
   "execution_count": null,
   "metadata": {},
   "outputs": [],
   "source": [
    "import pandas as pd\n",
    "from sklearn.feature_extraction.text import TfidfVectorizer\n",
    "from sklearn.linear_model.logistic import LogisticRegression\n",
    "from sklearn.model_selection import GridSearchCV\n",
    "from sklearn.pipeline import Pipeline\n",
    "from sklearn.model_selection import train_test_split\n",
    "from sklearn.metrics import precision_score, recall_score, accuracy_score\n",
    "\n",
    "pipeline = Pipeline([('vect', TfidfVectorizer(stop_words='english')),\n",
    "                    ('clf',LogisticRegression())])\n",
    "\n",
    "parameters = {\n",
    "    'vect__max_df':(0.25, 0.5, 0.75),\n",
    "    'vect__stop_words':('english', None),\n",
    "    'vect__max_features':(2500, 5000, 10000, None),\n",
    "    'vect__ngram_range':((1, 1),(1, 2)),\n",
    "    'vect__use_idf':(True, False),\n",
    "    'vect__norm':('l1','l2'),\n",
    "    'clf__penalty':('l1','l2'),\n",
    "    'clf__C':(0.01, 0.1, 1, 10),\n",
    "}\n",
    "\n",
    "if __name__ == \"__main__\":\n",
    "    grid_search = GridSearchCV(pipeline, parameters, n_jobs=-1, verbose=1, scoring='accuracy', cv=3)\n",
    "    df = pd.read_csv('SMSSpamCollection', delimiter='\\t', header=None)\n",
    "    X,y, = df[1], df[1]\n",
    "    X_train, X_test, y_train, y_test = train_test_split(X, y)\n",
    "    grid_search.fit(X_train, y_train)\n",
    "    print('Best score: %0.3f' % grid_search.best_score_)\n",
    "    print('Best parameters set:')\n",
    "    best_parameters = grid_search.best_estimator_.get_params()\n",
    "    for param_name in sorted(parameters.key()):\n",
    "        print('\\t%s: %r'%(param_name, best_parameters[param_name]))\n",
    "    predictions = grid_search.predict(X_test)\n",
    "    print('Accuracy:', accuracy_score(y_test, predictions))\n",
    "    print('Precision:', precision_score(y_test, predictions))\n",
    "    print('Recall:', recall_score(y_test, predictions))"
   ]
  },
  {
   "cell_type": "code",
   "execution_count": 22,
   "metadata": {},
   "outputs": [
    {
     "name": "stdout",
     "output_type": "stream",
     "text": [
      "PhraseId      156060\n",
      "SentenceId    156060\n",
      "Phrase        156060\n",
      "Sentiment     156060\n",
      "dtype: int64\n",
      "2    79582\n",
      "3    32927\n",
      "1    27273\n",
      "4     9206\n",
      "0     7072\n",
      "Name: Sentiment, dtype: int64\n"
     ]
    }
   ],
   "source": [
    "#multi-class classification\n",
    "import pandas as pd\n",
    "df = pd.read_csv('train.tsv', header=0, delimiter='\\t')\n",
    "print(df.count())\n",
    "#training features\n",
    "print(df['Phrase'].head(10))\n",
    "#label\n",
    "print(df['Sentiment'].value_counts())\n"
   ]
  },
  {
   "cell_type": "code",
   "execution_count": 30,
   "metadata": {},
   "outputs": [
    {
     "name": "stderr",
     "output_type": "stream",
     "text": [
      "/home/jst/.conda/envs/jst/lib/python3.5/site-packages/ipykernel_launcher.py:21: FutureWarning: Method .as_matrix will be removed in a future version. Use .values instead.\n",
      "/home/jst/.conda/envs/jst/lib/python3.5/site-packages/sklearn/model_selection/_split.py:2069: FutureWarning: From version 0.21, test_size will always complement train_size unless both are specified.\n",
      "  FutureWarning)\n",
      "/home/jst/.conda/envs/jst/lib/python3.5/site-packages/sklearn/model_selection/_split.py:1943: FutureWarning: You should specify a value for 'cv' instead of relying on the default value. The default value will change from 3 to 5 in version 0.22.\n",
      "  warnings.warn(CV_WARNING, FutureWarning)\n",
      "[Parallel(n_jobs=-1)]: Using backend LokyBackend with 8 concurrent workers.\n"
     ]
    },
    {
     "name": "stdout",
     "output_type": "stream",
     "text": [
      "Fitting 3 folds for each of 24 candidates, totalling 72 fits\n"
     ]
    },
    {
     "name": "stderr",
     "output_type": "stream",
     "text": [
      "[Parallel(n_jobs=-1)]: Done  34 tasks      | elapsed:   25.9s\n",
      "[Parallel(n_jobs=-1)]: Done  72 out of  72 | elapsed:  1.4min finished\n",
      "/home/jst/.conda/envs/jst/lib/python3.5/site-packages/sklearn/linear_model/logistic.py:432: FutureWarning: Default solver will be changed to 'lbfgs' in 0.22. Specify a solver to silence this warning.\n",
      "  FutureWarning)\n",
      "/home/jst/.conda/envs/jst/lib/python3.5/site-packages/sklearn/linear_model/logistic.py:459: FutureWarning: Default multi_class will be changed to 'auto' in 0.22. Specify the multi_class option to silence this warning.\n",
      "  \"this warning.\", FutureWarning)\n"
     ]
    },
    {
     "name": "stdout",
     "output_type": "stream",
     "text": [
      "Best score: 0.624\n",
      "Best parameters set:\n",
      "\tclf__C: 10\n",
      "\tvect__max_df: 0.25\n",
      "\tvect__ngram_range: (1, 2)\n",
      "\tvect__use_idf: False\n",
      "Accuracy: 0.6377803408945277\n",
      "Confusion Matrix: [[ 1166  1637   639    79     9]\n",
      " [  878  6022  6159   544    33]\n",
      " [  186  3092 32693  3608   150]\n",
      " [   13   406  6550  8239  1290]\n",
      " [    2    39   537  2413  1646]]\n",
      "Classification Report:               precision    recall  f1-score   support\n",
      "\n",
      "           0       0.52      0.33      0.40      3530\n",
      "           1       0.54      0.44      0.49     13636\n",
      "           2       0.70      0.82      0.76     39729\n",
      "           3       0.55      0.50      0.53     16498\n",
      "           4       0.53      0.35      0.42      4637\n",
      "\n",
      "   micro avg       0.64      0.64      0.64     78030\n",
      "   macro avg       0.57      0.49      0.52     78030\n",
      "weighted avg       0.62      0.64      0.62     78030\n",
      "\n"
     ]
    }
   ],
   "source": [
    "import pandas as pd\n",
    "from sklearn.feature_extraction.text import TfidfVectorizer\n",
    "from sklearn.linear_model.logistic import LogisticRegression\n",
    "from sklearn.model_selection import train_test_split\n",
    "from sklearn.metrics import classification_report, accuracy_score, confusion_matrix\n",
    "from sklearn.pipeline import Pipeline\n",
    "from sklearn.model_selection import GridSearchCV\n",
    "\n",
    "def main():\n",
    "    pipeline = Pipeline([\n",
    "        ('vect', TfidfVectorizer(stop_words='english')),\n",
    "        ('clf', LogisticRegression())\n",
    "    ])\n",
    "    parameters = {\n",
    "        'vect__max_df':(0.25, 0.5),\n",
    "        'vect__ngram_range':((1,1),(1,2)),\n",
    "        'vect__use_idf':(True, False),\n",
    "        'clf__C':(0.1, 1, 10),\n",
    "    }\n",
    "    df = pd.read_csv('train.tsv', header=0, delimiter='\\t')\n",
    "    X, y = df['Phrase'], df['Sentiment'].as_matrix()\n",
    "    X_train, X_test, y_train, y_test = train_test_split(X, y, train_size=0.5)\n",
    "    grid_search = GridSearchCV(pipeline, parameters, n_jobs=-1, verbose=1, scoring='accuracy')\n",
    "    grid_search.fit(X_train, y_train)\n",
    "    print('Best score: %0.3f'%grid_search.best_score_)\n",
    "    print('Best parameters set:')\n",
    "    best_parameters = grid_search.best_estimator_.get_params()\n",
    "    for param_name in sorted(parameters.keys()):\n",
    "        print('\\t%s: %r'%(param_name, best_parameters[param_name]))\n",
    "    \n",
    "    #performance metrics\n",
    "    predictions = grid_search.predict(X_test)\n",
    "    print('Accuracy:', accuracy_score(y_test, predictions))\n",
    "    print('Confusion Matrix:',confusion_matrix(y_test,predictions))\n",
    "    print('Classification Report:',classification_report(y_test, predictions))\n",
    "if __name__ == '__main__':\n",
    "    main()\n",
    "    "
   ]
  },
  {
   "cell_type": "code",
   "execution_count": null,
   "metadata": {},
   "outputs": [],
   "source": []
  }
 ],
 "metadata": {
  "kernelspec": {
   "display_name": "Python 3",
   "language": "python",
   "name": "python3"
  },
  "language_info": {
   "codemirror_mode": {
    "name": "ipython",
    "version": 3
   },
   "file_extension": ".py",
   "mimetype": "text/x-python",
   "name": "python",
   "nbconvert_exporter": "python",
   "pygments_lexer": "ipython3",
   "version": "3.5.6"
  }
 },
 "nbformat": 4,
 "nbformat_minor": 2
}
